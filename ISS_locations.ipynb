{
 "cells": [
  {
   "cell_type": "code",
   "execution_count": 6,
   "metadata": {
    "collapsed": true
   },
   "outputs": [],
   "source": [
    "# Use the international space station API to track its location in space and visualize\n",
    "# this data via the turtle module.\n",
    "# Use pygame to track ISS location\n",
    "\n",
    "import json\n",
    "from requests import get as geturl\n",
    "import turtle\n",
    "from time import sleep\n",
    "import pygame, sys\n",
    "\n",
    "# Set up location for world\n",
    "class Station:\n",
    "    def __init__(self,lat,long):\n",
    "        self.lat = lat\n",
    "        self.long = long\n",
    "        self.heading = 90\n",
    "        self.shape = 'iss.gif'\n",
    "    \n",
    "    def getLocation(self):\n",
    "        # updates the location from ISS API\n",
    "        url = 'http://api.open-notify.org/iss-now.json'\n",
    "        response = geturl(url)\n",
    "        result = json.loads(response.text)\n",
    "        \n",
    "        location = result['iss_position']\n",
    "        self.lat = location['latitude']\n",
    "        self.long = location['longitude']\n",
    "        print(\"Long: \" + self.long + \"Lat: \" + self.lat)"
   ]
  },
  {
   "cell_type": "code",
   "execution_count": null,
   "metadata": {
    "collapsed": true
   },
   "outputs": [],
   "source": [
    "pygame.init()\n",
    "screen = turtle.Screen()\n",
    "screen.setup(720, 360)\n",
    "screen.setworldcoordinates(-180, -90, 180, 90)\n",
    "screen.bgpic('map.gif')\n",
    "\n",
    "iss = Station(0,0)\n",
    "screen.register_shape(iss.shape)\n",
    "\n",
    "turtleiss = turtle.Turtle()\n",
    "turtleiss.shape(iss.shape)\n",
    "turtleiss.setheading(iss.heading)\n",
    "\n",
    "turtleiss.goto(float(iss.long), float(iss.lat))\n",
    "\n",
    "turtleiss.pendown()\n",
    "turtleiss.pencolor(\"White\")\n",
    "\n",
    "clock = pygame.time.Clock()\n",
    "checktime = 0\n",
    "\n",
    "while True:\n",
    "    clock.tick(50)\n",
    "    \n",
    "    for event in pygame.event.get():\n",
    "        if event.type == pygame.QUIT: sys.exit()\n",
    "        \n",
    "    \n",
    "    checktime += 1\n",
    "    if checktime > 600:\n",
    "        iss.getLocation()\n",
    "        turtleiss.goto(float(iss.long), float(iss.lat))\n",
    "        checktime = 0\n"
   ]
  },
  {
   "cell_type": "code",
   "execution_count": 9,
   "metadata": {
    "collapsed": true
   },
   "outputs": [],
   "source": [
    "# use urllib.request.urlopen(url, data=None, [timeout, ]*, cafile=None, capath=None, cadefault=False, context=None)\n",
    "#for **urllib2\n",
    "import json\n",
    "\n",
    "#req = urllib.request.urlopen(url,data=None, [timeout, ], cafile=None, capath=None, cadefault=False, context=None))\n",
    "#obj = json.loads(response.read())\n",
    "#print(obj['timestamp'])\n",
    "#print(obj['iss_position']['latitude'], obj['data']['iss_position']['latitude'])\n",
    "\n",
    "# set up the Station\n",
    "dataFolder = \"users/RoscoeBColtrane/Documents/GitHub/issData\"\n",
    "heading = 90\n",
    "shape = \"iss.gif\""
   ]
  },
  {
   "cell_type": "code",
   "execution_count": 7,
   "metadata": {},
   "outputs": [
    {
     "name": "stdout",
     "output_type": "stream",
     "text": [
      "<Response [200]>\n",
      "Long: -150.5337 Lat: 25.2504\n",
      "{'latitude': '25.2504', 'longitude': '-150.5337'}\n"
     ]
    }
   ],
   "source": [
    "# use matplotlib\n",
    "import json\n",
    "import requests  \n",
    "import matplotlib.pyplot as plt\n",
    "#import turtle\n",
    "import time\n",
    "#import pygame, sys\n",
    "\n",
    "# set up the Station\n",
    "dataFolder = \"users/RoscoeBColtrane/Documents/GitHub/issData\"\n",
    "heading = 90\n",
    "shape = \"iss.gif\"\n",
    "\n",
    "# updates the location from ISS API\n",
    "url = 'http://api.open-notify.org/iss-now.json'\n",
    "response = requests.get(url)\n",
    "result = json.loads(response.text)\n",
    "print(response)\n",
    "\n",
    "# get the location\n",
    "location = result['iss_position']\n",
    "lat = location['latitude']\n",
    "long = location['longitude']\n",
    "print(\"Long: \" + long + \" Lat: \" + lat)\n",
    "print(location)"
   ]
  },
  {
   "cell_type": "code",
   "execution_count": null,
   "metadata": {
    "collapsed": true
   },
   "outputs": [],
   "source": []
  }
 ],
 "metadata": {
  "kernelspec": {
   "display_name": "Python 3",
   "language": "python",
   "name": "python3"
  },
  "language_info": {
   "codemirror_mode": {
    "name": "ipython",
    "version": 3
   },
   "file_extension": ".py",
   "mimetype": "text/x-python",
   "name": "python",
   "nbconvert_exporter": "python",
   "pygments_lexer": "ipython3",
   "version": "3.6.2"
  }
 },
 "nbformat": 4,
 "nbformat_minor": 2
}
